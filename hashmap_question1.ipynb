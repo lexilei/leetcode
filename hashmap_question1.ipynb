{
  "nbformat": 4,
  "nbformat_minor": 0,
  "metadata": {
    "colab": {
      "provenance": [],
      "authorship_tag": "ABX9TyMPulsQGlUrB+GuBj7Mk/fA"
    },
    "kernelspec": {
      "name": "python3",
      "display_name": "Python 3"
    },
    "language_info": {
      "name": "python"
    }
  },
  "cells": [
    {
      "cell_type": "code",
      "source": [
        "from collections import defaultdict"
      ],
      "metadata": {
        "id": "19m9UTmI-Z8T"
      },
      "execution_count": 17,
      "outputs": []
    },
    {
      "cell_type": "code",
      "execution_count": 23,
      "metadata": {
        "id": "c4D93ug29tXC"
      },
      "outputs": [],
      "source": [
        "\n",
        "def solution(words,queries):\n",
        "  mp = defaultdict(list)\n",
        "\n",
        "  for word in words:\n",
        "            cur = ''.join(sorted(word))#this is the key\n",
        "            mp[cur].append(word)\n",
        "\n",
        "  result=[]\n",
        "  for word in queries:\n",
        "    cur = ''.join(sorted(word))#this is the LOOKUP key\n",
        "    result+=[list(mp[cur])]\n",
        "  return result\n"
      ]
    },
    {
      "cell_type": "code",
      "source": [
        "words=[\"wonderland\",\"speed\",\"dule\",\"cars\"]\n",
        "queries=[\"wdldoneran\",\"spede\",\"motor\"]"
      ],
      "metadata": {
        "id": "nDkNIDJv97Be"
      },
      "execution_count": 27,
      "outputs": []
    },
    {
      "cell_type": "code",
      "source": [
        "solution(words,queries)"
      ],
      "metadata": {
        "colab": {
          "base_uri": "https://localhost:8080/"
        },
        "id": "tqkCulpC-mBC",
        "outputId": "72a1c955-1a51-40d1-b77d-2dd20aa703dd"
      },
      "execution_count": 28,
      "outputs": [
        {
          "output_type": "execute_result",
          "data": {
            "text/plain": [
              "[['wonderland'], ['speed'], []]"
            ]
          },
          "metadata": {},
          "execution_count": 28
        }
      ]
    },
    {
      "cell_type": "code",
      "source": [],
      "metadata": {
        "id": "GkQBWYaY-nSe"
      },
      "execution_count": null,
      "outputs": []
    }
  ]
}