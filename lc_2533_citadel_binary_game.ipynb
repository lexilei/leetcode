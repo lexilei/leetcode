{
  "nbformat": 4,
  "nbformat_minor": 0,
  "metadata": {
    "colab": {
      "provenance": [],
      "authorship_tag": "ABX9TyPh6DpCGHOJ4wIEDmNlQ0C7",
      "include_colab_link": true
    },
    "kernelspec": {
      "name": "python3",
      "display_name": "Python 3"
    },
    "language_info": {
      "name": "python"
    }
  },
  "cells": [
    {
      "cell_type": "markdown",
      "metadata": {
        "id": "view-in-github",
        "colab_type": "text"
      },
      "source": [
        "<a href=\"https://colab.research.google.com/github/lexilei/leetcode/blob/main/lc_2533_citadel_binary_game.ipynb\" target=\"_parent\"><img src=\"https://colab.research.google.com/assets/colab-badge.svg\" alt=\"Open In Colab\"/></a>"
      ]
    },
    {
      "cell_type": "markdown",
      "source": [
        "Detailed question description can be found:\n",
        "https://github.com/doocs/leetcode/blob/main/solution/2500-2599/2533.Number%20of%20Good%20Binary%20Strings/README_EN.md\n",
        "\n",
        "Difficulty level: medium\n",
        "\n",
        "I've practiced under 10 leetcode problems so far (just for other coders' reference).\n",
        "\n",
        "Solved the question from 11:05-11:49 while talking to myself practicing explaining problems and walking through possible ways of making the code faster.\n",
        "\n",
        "runtime analysis: O(n^3) because of the three nested for loops. Correct me if I'm wrong.\n",
        "\n",
        "Multiple ways to inprove the for loop part so that we only need 1 for loop but will take longer to write, may not be so cost efficient in coding interviews.\n",
        "\n",
        "As far as I'm aware, the cut off time for leetcode and hackerrank is 1 sec or a few seconds. According to colab, everything ran under 1 sec for small inputs. When I'm close to the limit, it definitely is taking longer.\n",
        "\n",
        "There exists another possible dynamic programming way of solving this problem. Solution would be similar to:\n",
        "https://www.geeksforgeeks.org/number-of-ways-to-make-binary-string-of-length-n-such-that-0s-always-occur-together-in-groups-of-size-k/"
      ],
      "metadata": {
        "id": "M6BDkii_q78g"
      }
    },
    {
      "cell_type": "code",
      "execution_count": 14,
      "metadata": {
        "id": "VbC2COHtlzwx"
      },
      "outputs": [],
      "source": [
        "from math import comb\n",
        "def count(min,max,zero,one):\n",
        "  result=0\n",
        "  for l in range(min,max+1):\n",
        "    for a in range(0,max//zero+1):\n",
        "      for b in range(0,(max-a*zero)//one+1):\n",
        "        if a*zero+b*one==l:\n",
        "          result+=comb(a+b,a)\n",
        "  return result%(10**9+7)"
      ]
    },
    {
      "cell_type": "code",
      "source": [
        "count(1,300,1,2)"
      ],
      "metadata": {
        "colab": {
          "base_uri": "https://localhost:8080/"
        },
        "id": "3ksD7K4gnW0W",
        "outputId": "a99c92d1-1a74-4e32-ffc1-53afec51069f"
      },
      "execution_count": 15,
      "outputs": [
        {
          "output_type": "execute_result",
          "data": {
            "text/plain": [
              "430343674"
            ]
          },
          "metadata": {},
          "execution_count": 15
        }
      ]
    },
    {
      "cell_type": "code",
      "source": [
        "count(4,4,4,3)"
      ],
      "metadata": {
        "colab": {
          "base_uri": "https://localhost:8080/"
        },
        "id": "Vfjce8wTna_k",
        "outputId": "bc61fa49-b373-41f2-967c-6c8ccf526c9a"
      },
      "execution_count": 12,
      "outputs": [
        {
          "output_type": "execute_result",
          "data": {
            "text/plain": [
              "1"
            ]
          },
          "metadata": {},
          "execution_count": 12
        }
      ]
    },
    {
      "cell_type": "code",
      "source": [
        "count(400,20000,987,37)"
      ],
      "metadata": {
        "colab": {
          "base_uri": "https://localhost:8080/"
        },
        "id": "UlSk807KpdHY",
        "outputId": "8809508b-6c62-4319-fe87-519cd3461fdb"
      },
      "execution_count": 17,
      "outputs": [
        {
          "output_type": "execute_result",
          "data": {
            "text/plain": [
              "489064916"
            ]
          },
          "metadata": {},
          "execution_count": 17
        }
      ]
    },
    {
      "cell_type": "code",
      "source": [],
      "metadata": {
        "id": "zih0pD1_sZM4"
      },
      "execution_count": null,
      "outputs": []
    }
  ]
}