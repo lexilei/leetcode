{
  "nbformat": 4,
  "nbformat_minor": 0,
  "metadata": {
    "colab": {
      "provenance": [],
      "authorship_tag": "ABX9TyMZrPpgp3UXr/i+Cpk/Y4jh",
      "include_colab_link": true
    },
    "kernelspec": {
      "name": "python3",
      "display_name": "Python 3"
    },
    "language_info": {
      "name": "python"
    }
  },
  "cells": [
    {
      "cell_type": "markdown",
      "metadata": {
        "id": "view-in-github",
        "colab_type": "text"
      },
      "source": [
        "<a href=\"https://colab.research.google.com/github/lexilei/leetcode/blob/main/lc_2533_citadel_binary_game.ipynb\" target=\"_parent\"><img src=\"https://colab.research.google.com/assets/colab-badge.svg\" alt=\"Open In Colab\"/></a>"
      ]
    },
    {
      "cell_type": "code",
      "execution_count": 14,
      "metadata": {
        "id": "VbC2COHtlzwx"
      },
      "outputs": [],
      "source": [
        "from math import comb\n",
        "def count(min,max,zero,one):\n",
        "  result=0\n",
        "  for l in range(min,max+1):\n",
        "    for a in range(0,max//zero+1):\n",
        "      for b in range(0,(max-a*zero)//one+1):\n",
        "        if a*zero+b*one==l:\n",
        "          result+=comb(a+b,a)\n",
        "  return result%(10**9+7)"
      ]
    },
    {
      "cell_type": "code",
      "source": [
        "count(1,300,1,2)"
      ],
      "metadata": {
        "colab": {
          "base_uri": "https://localhost:8080/"
        },
        "id": "3ksD7K4gnW0W",
        "outputId": "a99c92d1-1a74-4e32-ffc1-53afec51069f"
      },
      "execution_count": 15,
      "outputs": [
        {
          "output_type": "execute_result",
          "data": {
            "text/plain": [
              "430343674"
            ]
          },
          "metadata": {},
          "execution_count": 15
        }
      ]
    },
    {
      "cell_type": "code",
      "source": [
        "count(4,4,4,3)"
      ],
      "metadata": {
        "colab": {
          "base_uri": "https://localhost:8080/"
        },
        "id": "Vfjce8wTna_k",
        "outputId": "bc61fa49-b373-41f2-967c-6c8ccf526c9a"
      },
      "execution_count": 12,
      "outputs": [
        {
          "output_type": "execute_result",
          "data": {
            "text/plain": [
              "1"
            ]
          },
          "metadata": {},
          "execution_count": 12
        }
      ]
    },
    {
      "cell_type": "code",
      "source": [],
      "metadata": {
        "id": "UlSk807KpdHY"
      },
      "execution_count": null,
      "outputs": []
    },
    {
      "cell_type": "markdown",
      "source": [],
      "metadata": {
        "id": "M6BDkii_q78g"
      }
    }
  ]
}